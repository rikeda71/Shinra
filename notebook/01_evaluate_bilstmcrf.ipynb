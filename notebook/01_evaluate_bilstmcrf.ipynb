{
 "cells": [
  {
   "cell_type": "code",
   "execution_count": 1,
   "metadata": {},
   "outputs": [],
   "source": [
    "%reload_ext autoreload\n",
    "import sys\n",
    "sys.path.append('../')"
   ]
  },
  {
   "cell_type": "code",
   "execution_count": 2,
   "metadata": {},
   "outputs": [],
   "source": [
    "%autoreload 2\n",
    "import torch\n",
    "from shinra.bilstm_crf.dataset import NestedNERDataset\n",
    "from shinra.bilstm_crf.model import BiLSTMCRF\n",
    "from shinra.bilstm_crf.evaluator import Evaluator"
   ]
  },
  {
   "cell_type": "code",
   "execution_count": 3,
   "metadata": {},
   "outputs": [],
   "source": [
    "dataset = NestedNERDataset(text_file_dir='../data/JP5/dataset/City/',\n",
    "                           wordemb_path='../data/embeddings/vectors')\n",
    "dims = dataset.get_embedding_dim()"
   ]
  },
  {
   "cell_type": "code",
   "execution_count": 4,
   "metadata": {},
   "outputs": [],
   "source": [
    "input_size = dims['word'] + dims['char'] + dims['pos'] * 2\n",
    "model = BiLSTMCRF(dataset.label_type, 128,\n",
    "                  word_emb_dim=dims['word'],\n",
    "                  char_emb_dim=dims['char'],\n",
    "                  pos_emb_dim=dims['pos'])"
   ]
  },
  {
   "cell_type": "code",
   "execution_count": 5,
   "metadata": {},
   "outputs": [],
   "source": [
    "evaluator = Evaluator(model, dataset, '../data/result/bilstm-crf-for-city.pth.pth')"
   ]
  },
  {
   "cell_type": "code",
   "execution_count": 6,
   "metadata": {},
   "outputs": [
    {
     "name": "stderr",
     "output_type": "stream",
     "text": [
      "100%|██████████| 750/750 [02:06<00:00,  1.10s/it]\n"
     ]
    },
    {
     "name": "stdout",
     "output_type": "stream",
     "text": [
      "\n",
      "\tprecision    recall    f1_score   num\n",
      "合併市区町村\t 0.000        0.000     0.000      69\n",
      "成立年\t 0.000        0.000     0.000      24\n",
      "旧称\t 0.000        0.000     0.000      48\n",
      "人口データの年\t 0.000        0.000     0.000      23\n",
      "座標・経度\t 0.000        0.000     0.000      1\n",
      "座標・緯度\t 0.000        0.000     0.000      1\n",
      "地形\t 0.010        0.023     0.014      220\n",
      "観光地\t 0.000        0.000     0.000      143\n",
      "産業\t 0.062        0.051     0.056      39\n",
      "所在地\t 0.012        0.005     0.007      217\n",
      "別名\t 0.000        0.000     0.000      87\n",
      "読み\t 0.015        0.014     0.015      69\n",
      "温泉・鉱泉\t 0.000        0.000     0.000      3\n",
      "友好市区町村\t 0.000        0.000     0.000      5\n",
      "人口\t 0.000        0.000     0.000      29\n",
      "首長\t 0.000        0.000     0.000      9\n",
      "地名の謂れ\t 0.000        0.000     0.000      33\n",
      "恒例行事\t 0.000        0.000     0.000      23\n",
      "特産品\t 0.000        0.000     0.000      42\n",
      "面積\t 0.000        0.000     0.000      17\n",
      "国\t 0.000        0.000     0.000      90\n",
      "種類\t 0.008        0.020     0.012      101\n",
      "鉄道会社\t 0.000        0.000     0.000      28\n",
      "18333.90659403801\n"
     ]
    }
   ],
   "source": [
    "import time\n",
    "start = time.time()\n",
    "evaluator.evaluate()\n",
    "print(time.time() - start)"
   ]
  },
  {
   "cell_type": "code",
   "execution_count": null,
   "metadata": {},
   "outputs": [],
   "source": []
  },
  {
   "cell_type": "code",
   "execution_count": null,
   "metadata": {},
   "outputs": [],
   "source": []
  }
 ],
 "metadata": {
  "kernelspec": {
   "display_name": "Python 3",
   "language": "python",
   "name": "python3"
  },
  "language_info": {
   "codemirror_mode": {
    "name": "ipython",
    "version": 3
   },
   "file_extension": ".py",
   "mimetype": "text/x-python",
   "name": "python",
   "nbconvert_exporter": "python",
   "pygments_lexer": "ipython3",
   "version": "3.6.8"
  }
 },
 "nbformat": 4,
 "nbformat_minor": 4
}
