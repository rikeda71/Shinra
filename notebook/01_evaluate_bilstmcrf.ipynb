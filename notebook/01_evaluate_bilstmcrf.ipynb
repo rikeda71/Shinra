{
 "cells": [
  {
   "cell_type": "code",
   "execution_count": 1,
   "metadata": {},
   "outputs": [],
   "source": [
    "%reload_ext autoreload\n",
    "import sys\n",
    "sys.path.append('../')"
   ]
  },
  {
   "cell_type": "code",
   "execution_count": 2,
   "metadata": {},
   "outputs": [],
   "source": [
    "%autoreload 2\n",
    "import torch\n",
    "from shinra.bilstm_crf.dataset import NestedNERDataset\n",
    "from shinra.bilstm_crf.model import BiLSTMCRF\n",
    "from shinra.bilstm_crf.evaluator import Evaluator"
   ]
  },
  {
   "cell_type": "code",
   "execution_count": 3,
   "metadata": {},
   "outputs": [],
   "source": [
    "dataset = NestedNERDataset(text_file_dir='../data/JP5/dataset/Compound/',\n",
    "                           wordemb_path='../data/embeddings/vectors')\n",
    "dims = dataset.get_embedding_dim()"
   ]
  },
  {
   "cell_type": "code",
   "execution_count": 4,
   "metadata": {},
   "outputs": [],
   "source": [
    "input_size = dims['word'] + dims['char'] + dims['pos'] * 2\n",
    "model = BiLSTMCRF(dataset.label_type, 128,\n",
    "                  word_emb_dim=dims['word'],\n",
    "                  char_emb_dim=dims['char'],\n",
    "                  pos_emb_dim=dims['pos'])"
   ]
  },
  {
   "cell_type": "code",
   "execution_count": 5,
   "metadata": {},
   "outputs": [],
   "source": [
    "evaluator = Evaluator(model, dataset, '../data/result/nested-ner.pth')"
   ]
  },
  {
   "cell_type": "code",
   "execution_count": 6,
   "metadata": {},
   "outputs": [
    {
     "name": "stderr",
     "output_type": "stream",
     "text": [
      "100%|██████████| 78/78 [00:16<00:00,  1.09it/s]\n"
     ]
    },
    {
     "name": "stdout",
     "output_type": "stream",
     "text": [
      "\n",
      "\tprecision    recall    f1_score   num\n",
      "特性\t 0.010        0.006     0.007      178\n",
      "用途\t 0.000        0.000     0.000      151\n",
      "原材料\t 0.000        0.000     0.000      65\n",
      "別称\t 0.000        0.000     0.000      154\n",
      "沸点\t 0.000        0.000     0.000      1\n",
      "示性式\t 0.000        0.000     0.000      9\n",
      "種類\t 0.000        0.000     0.000      93\n",
      "融点\t 0.000        0.000     0.000      2\n",
      "商標名\t 0.000        0.000     0.000      4\n",
      "化学式\t 0.160        0.074     0.101      54\n",
      "読み\t 0.062        0.067     0.065      15\n",
      "製造方法\t 0.000        0.000     0.000      21\n",
      "生成化合物\t 0.000        0.000     0.000      21\n",
      "CAS番号\t 0.000        0.000     0.000      1\n",
      "191.61402678489685\n"
     ]
    }
   ],
   "source": [
    "import time\n",
    "start = time.time()\n",
    "evaluator.evaluate()\n",
    "print(time.time() - start)"
   ]
  },
  {
   "cell_type": "code",
   "execution_count": null,
   "metadata": {},
   "outputs": [],
   "source": []
  }
 ],
 "metadata": {
  "kernelspec": {
   "display_name": "Python 3",
   "language": "python",
   "name": "python3"
  },
  "language_info": {
   "codemirror_mode": {
    "name": "ipython",
    "version": 3
   },
   "file_extension": ".py",
   "mimetype": "text/x-python",
   "name": "python",
   "nbconvert_exporter": "python",
   "pygments_lexer": "ipython3",
   "version": "3.6.8"
  }
 },
 "nbformat": 4,
 "nbformat_minor": 4
}
