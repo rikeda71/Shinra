{
 "cells": [
  {
   "cell_type": "markdown",
   "metadata": {},
   "source": [
    "## Wikipediaの分割\n",
    "- 固有表現抽出は1,2単語だけ文に対して行うのは難しい．そのため，単語だけで構成される文はパターンマッチで解きたいので，固有表現抽出で解くテキストとパターンマッチで解くテキストの区別を行う"
   ]
  },
  {
   "cell_type": "code",
   "execution_count": 1,
   "metadata": {},
   "outputs": [],
   "source": [
    "import bs4"
   ]
  },
  {
   "cell_type": "code",
   "execution_count": 2,
   "metadata": {},
   "outputs": [],
   "source": [
    "# html file\n",
    "html = '/Users/rikeda/Desktop/Sinra/JP-5 2/HTML/City/31.html'"
   ]
  },
  {
   "cell_type": "code",
   "execution_count": 3,
   "metadata": {},
   "outputs": [],
   "source": [
    "with open(html, 'r') as f:\n",
    "    content = f.read()"
   ]
  },
  {
   "cell_type": "code",
   "execution_count": 4,
   "metadata": {},
   "outputs": [],
   "source": [
    "soup = bs4.BeautifulSoup(content, 'html.parser')"
   ]
  },
  {
   "cell_type": "markdown",
   "metadata": {},
   "source": [
    "### データ分割\n",
    "- 実データを見た感じ，以下のルールで分けれそう？\n",
    "- 文\n",
    "  - pタグで囲まれているものは本文と思って大丈夫そう\n",
    "  - 定義中の文：dtタグの中のdd(description, definition)タグは本文と考える\n",
    "  - class=rellinkも日本語文となっているので文とする\n",
    "  - class=thumbcaptionも日本語文\n",
    "  - class=reference-textも文形式だが，ここに固有表現が存在するかは調査する必要がありそう\n",
    "  - class=thumbimage\n",
    "- 単語\n",
    "  - infobox(class=infobox)\n",
    "  - 表情報: class=wikitable(class='wikitable collapsible'との区別は必要？)\n",
    "  - dt(description term)\n",
    "  - class=thumb trightは写真のリンクの名前なのでこっち\n",
    "  - ul中のliはリストなのでこっち\n",
    "  - divやclassを利用して，取ってくるリスト，取ってこないリストを先に指定する必要がありそう\n",
    "  - div style=\"-moz-column-count:2; -webkit-column-count:2; column-count:2;\"はこちらだが，これにも固有表現がつくのか調査をする必要がある\n",
    "  - table\n",
    "  \n",
    "- 単語のルールを作るより，文を抽出するルールを作って，こちらを固有表現抽出で識別し，他をパターンマッチとかで抽出する方が良さそう？\n",
    "- 文を抽出 -> 抽出した文をHTMLから削除 -> これを繰り返して，余った部分を単語とするのが良さそう？"
   ]
  },
  {
   "cell_type": "markdown",
   "metadata": {},
   "source": [
    "### 文っぽいやつ"
   ]
  },
  {
   "cell_type": "code",
   "execution_count": 5,
   "metadata": {},
   "outputs": [
    {
     "data": {
      "text/plain": [
       "['パリ（仏: Paris[1]、巴里）は、フランス北部、イル＝ド＝フランス地域圏にある都市。フランスの首都であり、イル＝ド＝フランス地域圏の首府である。\\n',\n",
       " 'フランス最大の都市であり、同国の政治、経済、文化などの中心である。ロンドン、ニューヨーク、香港、東京などと並ぶ世界トップクラスの世界都市でもある。行政上では、1コミューン単独で県を構成する特別市であり、ルーヴル美術館を含む1区を中心に、時計回りに20の行政区が並ぶ（エスカルゴと形容される[2]）。\\n',\n",
       " '市域はティエールの城壁跡に造られた環状高速道路の内側の市街地（面積は86.99km2。参考：東京都・山手線の内側は63km2、ニューヨーク市・マンハッタンは59km2）、および、その外側西部のブローニュの森と外側東部のヴァンセンヌの森を併せた形となっており、面積は105.40\\xa0km2。ケスタ地形を呈するパリ盆地のほぼ中央に位置し、市内をセーヌ川が貫く。この川の中州であるシテ島を中心に発達した。市内の地形は比較的平坦であるが、標高は最低でセーヌ川沿いの35メートル、最高でモンマルトルの丘の130メートルである[3]。北緯49度とやや高緯度に位置するが、温かい北大西洋海流と偏西風によって一年を通して比較的温暖となっており、西岸海洋性気候の代表的な都市である。\\n']"
      ]
     },
     "execution_count": 5,
     "metadata": {},
     "output_type": "execute_result"
    }
   ],
   "source": [
    "[t.text for t in soup.find_all('p')][:3]"
   ]
  },
  {
   "cell_type": "code",
   "execution_count": 6,
   "metadata": {},
   "outputs": [
    {
     "data": {
      "text/plain": [
       "[' 凱旋門からテュイルリーまで続く、パリを代表する目抜き通り。パリの歴史軸を構成する。交差するモンテーニュ通りは高級ブランド街。',\n",
       " ' フランスの高級ブランドの本店が並ぶ、世界屈指の高級ブランド街。ヴァンドーム広場、コンコルド広場、ルーブル美術館、テュイルリー庭園、に囲まれたパリ中心部の通り。8区内でシャンゼリゼ通りと並走するフォーブール＝サントノレ通りに続いていく。',\n",
       " ' パリ発祥の地であり、ノートルダム大聖堂など歴史的建造物も多い。']"
      ]
     },
     "execution_count": 6,
     "metadata": {},
     "output_type": "execute_result"
    }
   ],
   "source": [
    "[t.text for t in soup.find_all('dd')][:3]"
   ]
  },
  {
   "cell_type": "code",
   "execution_count": 7,
   "metadata": {},
   "outputs": [
    {
     "data": {
      "text/plain": [
       "['詳細は「パリの歴史」を参照', '「フランスの歴史」も参照', '詳細は「フランス革命」を参照']"
      ]
     },
     "execution_count": 7,
     "metadata": {},
     "output_type": "execute_result"
    }
   ],
   "source": [
    "[t.text for t in soup.find_all(class_='rellink')][:3]"
   ]
  },
  {
   "cell_type": "code",
   "execution_count": 8,
   "metadata": {},
   "outputs": [
    {
     "data": {
      "text/plain": [
       "['ランドサット衛星写真', 'パリの行政区', ' エッフェル塔からのパリの360度のパノラマ']"
      ]
     },
     "execution_count": 8,
     "metadata": {},
     "output_type": "execute_result"
    }
   ],
   "source": [
    "[t.text for t in soup.find_all(class_='thumbcaption')][:3]"
   ]
  },
  {
   "cell_type": "code",
   "execution_count": 9,
   "metadata": {},
   "outputs": [
    {
     "data": {
      "text/plain": [
       "['マスターカードが2014年に公表した統計によると、パリは世界で3番目に外国人旅行者が多く訪れる都市、と報告されている。MasterCard Global Destination Cities Index 2014',\n",
       " 'フランス語: [paʁi]\\xa0(13px 音声ファイル)',\n",
       " '「パリのみち」：パリ市街地調査余談（東樋口護 鳥取環境大学教授・副学長）[リンク切れ]']"
      ]
     },
     "execution_count": 9,
     "metadata": {},
     "output_type": "execute_result"
    }
   ],
   "source": [
    "[t.text for t in soup.find_all(class_='reference-text')][:3]"
   ]
  },
  {
   "cell_type": "code",
   "execution_count": 10,
   "metadata": {},
   "outputs": [
    {
     "data": {
      "text/plain": [
       "[' 左:1795年から1860年までの12の行政区と48のカルティエ\\u3000右:1860年以降の20の行政区\\n',\n",
       " ' 左:1795年から1860年までの12の行政区と48のカルティエ\\u3000右:1860年以降の20の行政区\\n',\n",
       " ' 左:セーヌ川にかかるポン・デ・ザールとポン・ヌフ（東向き）\\u3000右:セーヌ川にかかるポンデザール（西向き）\\n']"
      ]
     },
     "execution_count": 10,
     "metadata": {},
     "output_type": "execute_result"
    }
   ],
   "source": [
    "[t.text for t in soup.find_all(class_='thumbimage')][:3]"
   ]
  },
  {
   "cell_type": "markdown",
   "metadata": {},
   "source": [
    "### 単語単位っぽいやつ"
   ]
  },
  {
   "cell_type": "code",
   "execution_count": 11,
   "metadata": {},
   "outputs": [
    {
     "data": {
      "text/plain": [
       "['パリ',\n",
       " '\\nDrapeau de Paris Flagcoa上：エッフェル塔（前景）とパリ郊外のラ・デファンス地区（背景）下：市旗（左）と紋章（右）',\n",
       " '行政',\n",
       " '国\\nフランスの旗 フランス',\n",
       " '地域圏 (Région)\\nイル＝ド＝フランス地域圏（地域圏首府）']"
      ]
     },
     "execution_count": 11,
     "metadata": {},
     "output_type": "execute_result"
    }
   ],
   "source": [
    "# 文に見えるが，表形式のものをテキスト形式で表示しているだけ\n",
    "[t.text for t in soup.find(class_='infobox').find_all('tr')][:5]"
   ]
  },
  {
   "cell_type": "code",
   "execution_count": 12,
   "metadata": {},
   "outputs": [
    {
     "data": {
      "text/plain": [
       "['\\n歴代市長\\n\\n\\n-\\n\\n 氏名\\n\\n 就任\\n\\n 離任\\n\\n 政党\\n\\n 補記（他の資格 等）\\n\\n\\n - \\n ジャック・シラク \\n 1977年3月20日 \\n 1995年5月16日 \\n共和国連合\\n国民議会議員\\n\\n\\n - \\n ジャン・チベリ \\n 1995年5月22日 \\n 2001年3月24日 \\n共和国連合\\n国民議会議員\\n\\n\\n - \\n ベルトラン・ドラノエ \\n 2001年3月25日 \\n2014年4月5日\\n社会党\\n元元老院議員\\n\\n\\n - \\n アンヌ・イダルゴ \\n 2014年4月5日\\n現職\\n社会党\\n初の女性パリ市長\\n\\n',\n",
       " '\\n\\n パリ (1971–2000)の気候\\n\\n\\n月\\n1月\\n2月\\n3月\\n4月\\n5月\\n6月\\n7月\\n8月\\n9月\\n10月\\n11月\\n12月\\n\\n年\\n\\n\\n 最高気温記録 °C (°F)\\n\\n 16.1 (61)\\n\\n 21.4 (70.5)\\n\\n 25.7 (78.3)\\n\\n 30.2 (86.4)\\n\\n 34.8 (94.6)\\n\\n 37.6 (99.7)\\n\\n 40.4 (104.7)\\n\\n 39.5 (103.1)\\n\\n 36.2 (97.2)\\n\\n 28.4 (83.1)\\n\\n 21 (70)\\n\\n 17.1 (62.8)\\n\\n 40.4 (104.7)\\n\\n\\n 平均最高気温 °C (°F)\\n\\n 6.9 (44.4)\\n\\n 8.2 (46.8)\\n\\n 11.8 (53.2)\\n\\n 14.7 (58.5)\\n\\n 19.0 (66.2)\\n\\n 22.7 (72.9)\\n\\n 25.2 (77.4)\\n\\n 25.0 (77)\\n\\n 20.8 (69.4)\\n\\n 15.8 (60.4)\\n\\n 10.4 (50.7)\\n\\n 7.8 (46)\\n\\n 15.5 (59.9)\\n\\n\\n 平均最低気温 °C (°F)\\n\\n 2.5 (36.5)\\n\\n 2.8 (37)\\n\\n 5.1 (41.2)\\n\\n 6.8 (44.2)\\n\\n 10.5 (50.9)\\n\\n 13.3 (55.9)\\n\\n 15.5 (59.9)\\n\\n 15.4 (59.7)\\n\\n 12.5 (54.5)\\n\\n 9.2 (48.6)\\n\\n 5.3 (41.5)\\n\\n 3.6 (38.5)\\n\\n 8.5 (47.3)\\n\\n\\n 最低気温記録 °C (°F)\\n\\n −14.6 (5.7)\\n\\n −14.7 (5.5)\\n\\n −9.1 (15.6)\\n\\n −3.5 (25.7)\\n\\n −0.1 (31.8)\\n\\n 3.1 (37.6)\\n\\n 6 (43)\\n\\n 6.3 (43.3)\\n\\n 1.8 (35.2)\\n\\n −3.1 (26.4)\\n\\n −14 (7)\\n\\n −23.9 (−11)\\n\\n −23.9 (−11)\\n\\n\\n 降水量 mm (inch)\\n\\n 53.7 (2.114)\\n\\n 43.7 (1.72)\\n\\n 48.5 (1.909)\\n\\n 53 (2.09)\\n\\n 65 (2.56)\\n\\n 54.6 (2.15)\\n\\n 63.1 (2.484)\\n\\n 43 (1.69)\\n\\n 54.7 (2.154)\\n\\n 59.7 (2.35)\\n\\n 51.9 (2.043)\\n\\n 58.7 (2.311)\\n\\n 649.6 (25.575)\\n\\n\\n 平均降水日数\\n\\n 10.2\\n\\n 9.3\\n\\n 10.4\\n\\n 9.4\\n\\n 10.3\\n\\n 8.6\\n\\n 8\\n\\n 6.9\\n\\n 8.5\\n\\n 9.5\\n\\n 9.7\\n\\n 10.7\\n\\n 111.5\\n\\n\\n 平均月間日照時間\\n\\n 55.8\\n\\n 86.8\\n\\n 130.2\\n\\n 174.0\\n\\n 201.5\\n\\n 219.0\\n\\n 238.7\\n\\n 220.1\\n\\n 171.0\\n\\n 127.1\\n\\n 75.0\\n\\n 49.6\\n\\n 1,630\\n\\n\\n出典: Meteo France[29]\\n']"
      ]
     },
     "execution_count": 12,
     "metadata": {},
     "output_type": "execute_result"
    }
   ],
   "source": [
    "[t.text for t in soup.find_all(class_='wikitable')][:3]"
   ]
  },
  {
   "cell_type": "code",
   "execution_count": 13,
   "metadata": {},
   "outputs": [
    {
     "data": {
      "text/plain": [
       "[' シャンゼリゼ通り（8区）',\n",
       " ' サントノーレ通り（1区）',\n",
       " ' シテ島（1区、4区）',\n",
       " ' パッシー（16区）',\n",
       " ' オペラ界隈（2区、9区）']"
      ]
     },
     "execution_count": 13,
     "metadata": {},
     "output_type": "execute_result"
    }
   ],
   "source": [
    "[t.text for t in soup.find_all('dt')][:5]"
   ]
  },
  {
   "cell_type": "code",
   "execution_count": 14,
   "metadata": {},
   "outputs": [
    {
     "data": {
      "text/plain": [
       "['ファイル:Paris-Landsat001.jpg ランドサット衛星写真',\n",
       " 'ファイル:Arrondissements-de-Paris.png パリの行政区',\n",
       " 'ファイル:Thermes-de-Cluny-caldarium.jpg 国立中世博物館に残るクリュニー浴場のカルダリウム',\n",
       " 'ファイル:Paris in 9 century.jpg 9世紀のシテ島の地図',\n",
       " 'ファイル:Plan de Paris 1223 BNF07710747.png 1223年のパリ']"
      ]
     },
     "execution_count": 14,
     "metadata": {},
     "output_type": "execute_result"
    }
   ],
   "source": [
    "[t.text for t in soup.find_all(class_='thumb tright')][:5]"
   ]
  },
  {
   "cell_type": "markdown",
   "metadata": {},
   "source": [
    "- リストの処理．リストを片っ端からとるより，divとかを使って，固有表現が存在する可能性があるところから抽出した方がいい？"
   ]
  },
  {
   "cell_type": "code",
   "execution_count": 15,
   "metadata": {},
   "outputs": [
    {
     "data": {
      "text/plain": [
       "['1 概要\\n\\n1.1 標語\\n1.2 風景\\n\\n',\n",
       " '1.1 標語',\n",
       " '1.2 風景',\n",
       " '2 歴史\\n\\n2.1 語源\\n2.2 古代\\n2.3 フランク王国\\n2.4 カペー朝\\n2.5 ヴァロワ朝\\n2.6 ブルボン朝\\n2.7 フランス革命\\n2.8 19世紀\\n2.9 20世紀\\n\\n',\n",
       " '2.1 語源',\n",
       " '2.2 古代',\n",
       " '2.3 フランク王国',\n",
       " '2.4 カペー朝',\n",
       " '2.5 ヴァロワ朝',\n",
       " '2.6 ブルボン朝']"
      ]
     },
     "execution_count": 15,
     "metadata": {},
     "output_type": "execute_result"
    }
   ],
   "source": [
    "[t.text for t in soup.find_all('li')][:10]"
   ]
  },
  {
   "cell_type": "code",
   "execution_count": 16,
   "metadata": {},
   "outputs": [
    {
     "data": {
      "text/plain": [
       "[' オデオン座',\n",
       " ' オペラ＝コミック座',\n",
       " ' オペラ・ガルニエ（日本で「オペラ座」と呼ぶのはこちら）',\n",
       " ' オペラ・バスティーユ',\n",
       " ' オランピア劇場']"
      ]
     },
     "execution_count": 16,
     "metadata": {},
     "output_type": "execute_result"
    }
   ],
   "source": [
    "[t.text for t in soup.find(style='-moz-column-count:2; -webkit-column-count:2; column-count:2;').find_all('li')][:5]"
   ]
  },
  {
   "cell_type": "markdown",
   "metadata": {},
   "source": [
    "### 見つかった要素の削除"
   ]
  },
  {
   "cell_type": "code",
   "execution_count": 26,
   "metadata": {},
   "outputs": [
    {
     "name": "stdout",
     "output_type": "stream",
     "text": [
      "51142\n",
      "51006\n"
     ]
    }
   ],
   "source": [
    "print(len(soup.get_text()))\n",
    "elem = soup.find('p')\n",
    "elem.decompose()\n",
    "print(len(soup.get_text()))"
   ]
  },
  {
   "cell_type": "code",
   "execution_count": null,
   "metadata": {},
   "outputs": [],
   "source": []
  }
 ],
 "metadata": {
  "kernelspec": {
   "display_name": "Python 3",
   "language": "python",
   "name": "python3"
  },
  "language_info": {
   "codemirror_mode": {
    "name": "ipython",
    "version": 3
   },
   "file_extension": ".py",
   "mimetype": "text/x-python",
   "name": "python",
   "nbconvert_exporter": "python",
   "pygments_lexer": "ipython3",
   "version": "3.7.3"
  }
 },
 "nbformat": 4,
 "nbformat_minor": 2
}
